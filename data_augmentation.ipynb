{
 "cells": [
  {
   "cell_type": "markdown",
   "metadata": {},
   "source": [
    "# Data augmentation"
   ]
  },
  {
   "cell_type": "markdown",
   "metadata": {},
   "source": [
    "To improve the model's efficiency to classify between foggy and cloudy images, data augmentation was done.\n",
    "Image augmentation artificially creates training images through different ways of processing or combination of multiple processing, such as random rotation, shifts, shear and flips, etc."
   ]
  },
  {
   "cell_type": "code",
   "execution_count": null,
   "metadata": {},
   "outputs": [],
   "source": [
    "import cv2\n",
    "import numpy as np\n",
    "from skimage import io \n",
    "from skimage.transform import rotate, AffineTransform, warp\n",
    "import matplotlib.pyplot as plt\n",
    "import random\n",
    "from skimage import img_as_ubyte\n",
    "import os\n",
    "from skimage.util import random_noise"
   ]
  },
  {
   "cell_type": "code",
   "execution_count": null,
   "metadata": {},
   "outputs": [],
   "source": [
    "# Functions for each operation\n",
    "def anticlockwise_rotation(image):\n",
    "    angle= random.randint(0,180)\n",
    "    return rotate(image, angle)\n",
    "\n",
    "def clockwise_rotation(image):\n",
    "    angle= random.randint(0,180)\n",
    "    return rotate(image, -angle)\n",
    "\n",
    "def h_flip(image):\n",
    "    return  np.fliplr(image)\n",
    "\n",
    "def v_flip(image):\n",
    "    return np.flipud(image)\n",
    "\n",
    "def add_noise(image):\n",
    "    return random_noise(image)\n",
    "\n",
    "def blur_image(image):\n",
    "    return cv2.GaussianBlur(image, (9,9),0)\n",
    "\n",
    "#I would not recommend warp_shifting, because it distorts image, but can be used in many use case like \n",
    "#classifying blur and non-blur images\n",
    "def warp_shift(image): \n",
    "    transform = AffineTransform(translation=(0,40))  #chose x,y values according to your convinience\n",
    "    warp_image = warp(image, transform, mode=\"wrap\")\n",
    "    return warp_image"
   ]
  },
  {
   "cell_type": "code",
   "execution_count": null,
   "metadata": {},
   "outputs": [],
   "source": [
    "# Dictionary used to store names of functions \n",
    "transformations = {'rotate anticlockwise': anticlockwise_rotation,\n",
    "                      'rotate clockwise': clockwise_rotation,\n",
    "                      'horizontal flip': h_flip, \n",
    "                      'vertical flip': v_flip,\n",
    "                   'warp shift': warp_shift,\n",
    "                   'adding noise': add_noise,\n",
    "                   'blurring image':blur_image\n",
    "                 }                \n",
    "\n",
    "images_path=\"C:/Users/niran/Desktop/AI_Project/dataset/foggy\"    # path to original images\n",
    "augmented_path=\"C:/Users/niran/Desktop/AI_Project/dataset/foggy\" # path to store aumented images\n",
    "\n",
    "# images_path=\"C:/Users/niran/Desktop/AI_Project/dataset/cloudy\"   \n",
    "# augmented_path=\"C:/Users/niran/Desktop/AI_Project/dataset/cloudy\" \n",
    "\n",
    "images=[] # to store paths of images from folder\n",
    "\n",
    "for im in os.listdir(images_path):  # read image name from folder and append its path into \"images\" array     \n",
    "    images.append(os.path.join(images_path,im))\n",
    "\n",
    "images_to_generate = 50  \n",
    "i = 1                        \n",
    " \n",
    "while i<=images_to_generate:    \n",
    "    image=random.choice(images)\n",
    "    original_image = io.imread(image)\n",
    "    transformed_image=None\n",
    "    n = 0  # variable to iterate till number of transformation to apply\n",
    "    transformation_count = random.randint(1, len(transformations)) # choose random number of transformation to apply on the image\n",
    "\n",
    "    while n <= transformation_count:\n",
    "        key = random.choice(list(transformations)) # randomly choosing method to call\n",
    "        transformed_image = transformations[key](original_image)\n",
    "        n = n + 1\n",
    "        \n",
    "    new_image_path= \"%s/augmented_image_%s.jpg\" %(augmented_path, i)\n",
    "    \n",
    "    # convert an image to unsigned byte format, with values in [0, 255].\n",
    "    transformed_image = img_as_ubyte(transformed_image)  \n",
    "    \n",
    "    # convert image to RGB before saving it\n",
    "    transformed_image=cv2.cvtColor(transformed_image, cv2.COLOR_BGR2RGB) \n",
    "    # save transformed image to path\n",
    "    cv2.imwrite(new_image_path, transformed_image) \n",
    "    i =i+1"
   ]
  }
 ],
 "metadata": {
  "kernelspec": {
   "display_name": "Python 3",
   "language": "python",
   "name": "python3"
  },
  "language_info": {
   "codemirror_mode": {
    "name": "ipython",
    "version": 3
   },
   "file_extension": ".py",
   "mimetype": "text/x-python",
   "name": "python",
   "nbconvert_exporter": "python",
   "pygments_lexer": "ipython3",
   "version": "3.8.5"
  }
 },
 "nbformat": 4,
 "nbformat_minor": 4
}
